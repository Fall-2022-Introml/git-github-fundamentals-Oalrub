{
 "cells": [
  {
   "cell_type": "code",
   "execution_count": 8,
   "id": "62166583-eefb-4f7e-8bff-02c830ee8f94",
   "metadata": {},
   "outputs": [
    {
     "data": {
      "text/plain": [
       "3"
      ]
     },
     "execution_count": 8,
     "metadata": {},
     "output_type": "execute_result"
    }
   ],
   "source": [
    "x=3\n",
    "(x)"
   ]
  },
  {
   "cell_type": "code",
   "execution_count": 9,
   "id": "7573088c-2b87-418f-b8d3-1be510f9323c",
   "metadata": {},
   "outputs": [],
   "source": [
    "Python= ('Hello world')"
   ]
  },
  {
   "cell_type": "code",
   "execution_count": 10,
   "id": "e9cbf78e-d202-49ae-ab49-00af98902426",
   "metadata": {},
   "outputs": [
    {
     "name": "stdout",
     "output_type": "stream",
     "text": [
      "Hello world\n"
     ]
    }
   ],
   "source": [
    "print(Python)"
   ]
  },
  {
   "cell_type": "code",
   "execution_count": null,
   "id": "a6cb285c-194d-44b1-92f2-364ee18bfc17",
   "metadata": {},
   "outputs": [],
   "source": []
  }
 ],
 "metadata": {
  "kernelspec": {
   "display_name": "Python 3 (ipykernel)",
   "language": "python",
   "name": "python3"
  },
  "language_info": {
   "codemirror_mode": {
    "name": "ipython",
    "version": 3
   },
   "file_extension": ".py",
   "mimetype": "text/x-python",
   "name": "python",
   "nbconvert_exporter": "python",
   "pygments_lexer": "ipython3",
   "version": "3.9.12"
  }
 },
 "nbformat": 4,
 "nbformat_minor": 5
}
